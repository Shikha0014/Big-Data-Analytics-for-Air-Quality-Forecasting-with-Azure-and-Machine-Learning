{
 "cells": [
  {
   "cell_type": "code",
   "execution_count": 1,
   "metadata": {
    "application/vnd.databricks.v1+cell": {
     "cellMetadata": {
      "byteLimit": 2048000,
      "rowLimit": 10000
     },
     "inputWidgets": {},
     "nuid": "7b5aa0ed-22bf-4690-9d54-9ed1b8fa22bf",
     "showTitle": false,
     "tableResultSettingsMap": {},
     "title": ""
    }
   },
   "outputs": [],
   "source": [
    "# %pip install requests pandas pyspark\n",
    "# %pip install \"pymongo[srv]\""
   ]
  },
  {
   "cell_type": "code",
   "execution_count": 0,
   "metadata": {
    "application/vnd.databricks.v1+cell": {
     "cellMetadata": {
      "byteLimit": 2048000,
      "rowLimit": 10000
     },
     "inputWidgets": {},
     "nuid": "14e9ebae-576d-410a-a3db-8379a95e9382",
     "showTitle": false,
     "tableResultSettingsMap": {},
     "title": ""
    }
   },
   "outputs": [],
   "source": [
    "%restart_python"
   ]
  },
  {
   "cell_type": "code",
   "execution_count": 0,
   "metadata": {
    "application/vnd.databricks.v1+cell": {
     "cellMetadata": {
      "byteLimit": 2048000,
      "rowLimit": 10000
     },
     "inputWidgets": {},
     "nuid": "f470a20b-7574-45b9-808a-6cae70478f15",
     "showTitle": false,
     "tableResultSettingsMap": {},
     "title": ""
    }
   },
   "outputs": [],
   "source": [
    "cities = [\n",
    "    {\"city\": \"Delhi\", \"state\": \"Delhi\", \"latitude\": 28.6139, \"longitude\": 77.2090},\n",
    "    {\"city\": \"Mumbai\", \"state\": \"Maharashtra\", \"latitude\": 19.0760, \"longitude\": 72.8777},\n",
    "    {\"city\": \"Bangalore\", \"state\": \"Karnataka\", \"latitude\": 12.9716, \"longitude\": 77.5946},\n",
    "    {\"city\": \"Hyderabad\", \"state\": \"Telangana\", \"latitude\": 17.3850, \"longitude\": 78.4867},\n",
    "    {\"city\": \"Chennai\", \"state\": \"Tamil Nadu\", \"latitude\": 13.0827, \"longitude\": 80.2707},\n",
    "    {\"city\": \"Kolkata\", \"state\": \"West Bengal\", \"latitude\": 22.5726, \"longitude\": 88.3639},\n",
    "    {\"city\": \"Pune\", \"state\": \"Maharashtra\", \"latitude\": 18.5204, \"longitude\": 73.8567},\n",
    "    {\"city\": \"Ahmedabad\", \"state\": \"Gujarat\", \"latitude\": 23.0225, \"longitude\": 72.5714},\n",
    "    {\"city\": \"Jaipur\", \"state\": \"Rajasthan\", \"latitude\": 26.9124, \"longitude\": 75.7873},\n",
    "    {\"city\": \"Lucknow\", \"state\": \"Uttar Pradesh\", \"latitude\": 26.8467, \"longitude\": 80.9462},\n",
    "    {\"city\": \"Surat\", \"state\": \"Gujarat\", \"latitude\": 21.1702, \"longitude\": 72.8311},\n",
    "    {\"city\": \"Kanpur\", \"state\": \"Uttar Pradesh\", \"latitude\": 26.4499, \"longitude\": 80.3319},\n",
    "    {\"city\": \"Nagpur\", \"state\": \"Maharashtra\", \"latitude\": 21.1458, \"longitude\": 79.0882},\n",
    "    {\"city\": \"Indore\", \"state\": \"Madhya Pradesh\", \"latitude\": 22.7196, \"longitude\": 75.8577},\n",
    "    {\"city\": \"Bhopal\", \"state\": \"Madhya Pradesh\", \"latitude\": 23.2599, \"longitude\": 77.4126},\n",
    "    {\"city\": \"Patna\", \"state\": \"Bihar\", \"latitude\": 25.5941, \"longitude\": 85.1376},\n",
    "    {\"city\": \"Ludhiana\", \"state\": \"Punjab\", \"latitude\": 30.9005, \"longitude\": 75.8573},\n",
    "    {\"city\": \"Coimbatore\", \"state\": \"Tamil Nadu\", \"latitude\": 11.0168, \"longitude\": 76.9558},\n",
    "    {\"city\": \"Kochi\", \"state\": \"Kerala\", \"latitude\": 9.9312, \"longitude\": 76.2673},\n",
    "    {\"city\": \"Visakhapatnam\", \"state\": \"Andhra Pradesh\", \"latitude\": 17.6868, \"longitude\": 83.2185},\n",
    "    {\"city\": \"Vijayawada\", \"state\": \"Andhra Pradesh\", \"latitude\": 16.5062, \"longitude\": 80.6480},\n",
    "    {\"city\": \"Chandigarh\", \"state\": \"Chandigarh\", \"latitude\": 30.7333, \"longitude\": 76.7794},\n",
    "    {\"city\": \"Agra\", \"state\": \"Uttar Pradesh\", \"latitude\": 27.1767, \"longitude\": 78.0081},\n",
    "    {\"city\": \"Varanasi\", \"state\": \"Uttar Pradesh\", \"latitude\": 25.3176, \"longitude\": 82.9739},\n",
    "    {\"city\": \"Srinagar\", \"state\": \"Jammu & Kashmir\", \"latitude\": 34.0837, \"longitude\": 74.7973}\n",
    "]"
   ]
  },
  {
   "cell_type": "code",
   "execution_count": 0,
   "metadata": {
    "application/vnd.databricks.v1+cell": {
     "cellMetadata": {
      "byteLimit": 2048000,
      "rowLimit": 10000
     },
     "inputWidgets": {},
     "nuid": "d419b337-1eae-40e5-b18d-b25d846f320f",
     "showTitle": false,
     "tableResultSettingsMap": {},
     "title": ""
    }
   },
   "outputs": [],
   "source": [
    "from pyspark.sql.types import StructType, StructField, StringType, DoubleType, TimestampType\n",
    "\n",
    "# Define schema that matches your records\n",
    "schema = StructType([\n",
    "    StructField(\"city\", StringType(), True),\n",
    "    StructField(\"latitude\", DoubleType(), True),\n",
    "    StructField(\"longitude\", DoubleType(), True),\n",
    "    StructField(\"timestamp\", StringType(), True),  # or TimestampType() if converting later\n",
    "    StructField(\"temperature_2m\", DoubleType(), True),\n",
    "    StructField(\"wind_speed_10m\", DoubleType(), True),\n",
    "    StructField(\"cloud_cover\", DoubleType(), True),\n",
    "    StructField(\"precipitation\", DoubleType(), True),\n",
    "    StructField(\"relative_humidity_2m\", DoubleType(), True),\n",
    "    StructField(\"dew_point_2m\", DoubleType(), True),\n",
    "])\n",
    "\n",
    "# Create an empty DataFrame with this schema\n",
    "weather_df = spark.createDataFrame([], schema)"
   ]
  },
  {
   "cell_type": "code",
   "execution_count": 0,
   "metadata": {
    "application/vnd.databricks.v1+cell": {
     "cellMetadata": {
      "byteLimit": 2048000,
      "rowLimit": 10000
     },
     "inputWidgets": {},
     "nuid": "1064d8d8-7d7c-417b-bf68-5d8df3b62b5e",
     "showTitle": false,
     "tableResultSettingsMap": {},
     "title": ""
    }
   },
   "outputs": [
    {
     "name": "stdout",
     "output_type": "stream",
     "text": [
      "Fetching weather data for Delhi\n",
      "Fetching weather data for Mumbai\n",
      "Fetching weather data for Bangalore\n",
      "Fetching weather data for Hyderabad\n",
      "Fetching weather data for Chennai\n",
      "Fetching weather data for Kolkata\n",
      "Fetching weather data for Pune\n",
      "Fetching weather data for Ahmedabad\n",
      "Fetching weather data for Jaipur\n",
      "Fetching weather data for Lucknow\n",
      "Fetching weather data for Surat\n",
      "Fetching weather data for Kanpur\n",
      "Fetching weather data for Nagpur\n",
      "Fetching weather data for Indore\n",
      "Fetching weather data for Bhopal\n",
      "Fetching weather data for Patna\n",
      "Fetching weather data for Ludhiana\n",
      "Fetching weather data for Coimbatore\n",
      "Fetching weather data for Kochi\n",
      "Fetching weather data for Visakhapatnam\n",
      "Fetching weather data for Vijayawada\n",
      "Fetching weather data for Chandigarh\n",
      "Fetching weather data for Agra\n",
      "Fetching weather data for Varanasi\n",
      "Fetching weather data for Srinagar\n"
     ]
    }
   ],
   "source": [
    "import requests\n",
    "import json\n",
    "from time import sleep\n",
    "\n",
    "def get_weather_data(lat, lon):\n",
    "    url = f\"https://archive-api.open-meteo.com/v1/archive?latitude={lat}&longitude={lon}&start_date=2022-08-06&end_date=2025-03-31&hourly=temperature_2m,relative_humidity_2m,dew_point_2m,wind_speed_10m,cloud_cover,precipitation\"\n",
    "    response = requests.get(url)\n",
    "    if response.status_code == 200:\n",
    "        return response.json()\n",
    "    else:\n",
    "        print(response.status_code)\n",
    "        print(f\"Error fetching weather data for {lat}, {lon}\")\n",
    "        return None\n",
    "\n",
    "for city in cities:\n",
    "    print(f\"Fetching weather data for {city['city']}\")\n",
    "    data = get_weather_data(city[\"latitude\"], city[\"longitude\"])\n",
    "    if data:\n",
    "        records = []\n",
    "        for i, timestamp in enumerate(data[\"hourly\"][\"time\"]):\n",
    "            records.append({\n",
    "                \"city\": city[\"city\"],\n",
    "                \"latitude\": float(city[\"latitude\"]),\n",
    "                \"longitude\": float(city[\"longitude\"]),\n",
    "                \"timestamp\": timestamp,\n",
    "                \"temperature_2m\": float(data[\"hourly\"][\"temperature_2m\"][i]),\n",
    "                \"wind_speed_10m\": float(data[\"hourly\"][\"wind_speed_10m\"][i]),\n",
    "                \"cloud_cover\": float(data[\"hourly\"][\"cloud_cover\"][i]),\n",
    "                \"precipitation\": float(data[\"hourly\"][\"precipitation\"][i]),\n",
    "                \"relative_humidity_2m\": float(data[\"hourly\"][\"relative_humidity_2m\"][i]),\n",
    "                \"dew_point_2m\": float(data[\"hourly\"][\"dew_point_2m\"][i])\n",
    "            })\n",
    "\n",
    "        city_df = spark.createDataFrame(records, schema=schema)\n",
    "        weather_df = weather_df.union(city_df)\n",
    "    sleep(5)"
   ]
  },
  {
   "cell_type": "code",
   "execution_count": 0,
   "metadata": {
    "application/vnd.databricks.v1+cell": {
     "cellMetadata": {
      "byteLimit": 2048000,
      "rowLimit": 10000
     },
     "inputWidgets": {},
     "nuid": "e5244b68-f6c8-4063-8a71-3cb2d8e52348",
     "showTitle": false,
     "tableResultSettingsMap": {},
     "title": ""
    }
   },
   "outputs": [
    {
     "name": "stdout",
     "output_type": "stream",
     "text": [
      "+-----+--------+---------+----------------+--------------+--------------+-----------+-------------+--------------------+------------+\n",
      "| city|latitude|longitude|       timestamp|temperature_2m|wind_speed_10m|cloud_cover|precipitation|relative_humidity_2m|dew_point_2m|\n",
      "+-----+--------+---------+----------------+--------------+--------------+-----------+-------------+--------------------+------------+\n",
      "|Delhi| 28.6139|   77.209|2022-08-06T00:00|          26.0|           5.2|       75.0|          0.0|                97.0|        25.4|\n",
      "|Delhi| 28.6139|   77.209|2022-08-06T01:00|          25.6|           7.6|      100.0|          0.7|                93.0|        24.4|\n",
      "|Delhi| 28.6139|   77.209|2022-08-06T02:00|          25.5|           4.4|      100.0|          1.2|                93.0|        24.3|\n",
      "|Delhi| 28.6139|   77.209|2022-08-06T03:00|          26.7|           4.2|       51.0|          0.0|                89.0|        24.8|\n",
      "|Delhi| 28.6139|   77.209|2022-08-06T04:00|          28.5|           4.7|      100.0|          0.0|                83.0|        25.4|\n",
      "+-----+--------+---------+----------------+--------------+--------------+-----------+-------------+--------------------+------------+\n",
      "only showing top 5 rows\n",
      "\n"
     ]
    }
   ],
   "source": [
    "weather_df.show(5)"
   ]
  },
  {
   "cell_type": "code",
   "execution_count": 0,
   "metadata": {
    "application/vnd.databricks.v1+cell": {
     "cellMetadata": {
      "byteLimit": 2048000,
      "rowLimit": 10000
     },
     "inputWidgets": {},
     "nuid": "0fa793f5-2a3e-49a0-8231-7ec17965daf0",
     "showTitle": false,
     "tableResultSettingsMap": {},
     "title": ""
    }
   },
   "outputs": [
    {
     "name": "stdout",
     "output_type": "stream",
     "text": [
      "+-------+-------------+------------------+------------------+----------------+------------------+-----------------+-----------------+-------------------+--------------------+------------------+\n",
      "|summary|         city|          latitude|         longitude|       timestamp|    temperature_2m|   wind_speed_10m|      cloud_cover|      precipitation|relative_humidity_2m|      dew_point_2m|\n",
      "+-------+-------------+------------------+------------------+----------------+------------------+-----------------+-----------------+-------------------+--------------------+------------------+\n",
      "|  count|       581400|            581400|            581400|          581400|            581400|           581400|           581400|             581400|              581400|            581400|\n",
      "|   mean|         NULL|22.107843999999595|  78.1651559999993|            NULL|24.748929652562765|9.405087031303744|45.54083935328517|0.14326264189886515|   66.58499312005505|16.828733230134155|\n",
      "| stddev|         NULL|6.2803205784175535|3.8366519350712758|            NULL| 7.021389039823227|5.173920236044973|43.67491141979736| 0.7839466273468786|  22.862785189738535| 7.280021302014261|\n",
      "|    min|         Agra|            9.9312|           72.5714|2022-08-06T00:00|             -15.3|              0.0|              0.0|                0.0|                 4.0|             -24.1|\n",
      "|    max|Visakhapatnam|           34.0837|           88.3639|2025-03-31T23:00|              47.3|             53.1|            100.0|               51.7|               100.0|              29.8|\n",
      "+-------+-------------+------------------+------------------+----------------+------------------+-----------------+-----------------+-------------------+--------------------+------------------+\n",
      "\n"
     ]
    }
   ],
   "source": [
    "weather_df.describe().show()"
   ]
  },
  {
   "cell_type": "code",
   "execution_count": 0,
   "metadata": {
    "application/vnd.databricks.v1+cell": {
     "cellMetadata": {
      "byteLimit": 2048000,
      "rowLimit": 10000
     },
     "inputWidgets": {},
     "nuid": "10f88f30-1d58-41c2-ba15-39707ce172d6",
     "showTitle": false,
     "tableResultSettingsMap": {},
     "title": ""
    }
   },
   "outputs": [],
   "source": [
    "# Define schema that matches your records\n",
    "aqi_schema = StructType([\n",
    "    StructField(\"city\", StringType(), True),\n",
    "    StructField(\"latitude\", DoubleType(), True),\n",
    "    StructField(\"longitude\", DoubleType(), True),\n",
    "    StructField(\"timestamp\", StringType(), True),  # or TimestampType() if converting later\n",
    "    StructField(\"pm2_5\", DoubleType(), True),\n",
    "    StructField(\"pm_10\", DoubleType(), True),\n",
    "    StructField(\"aqi\", DoubleType(), True),\n",
    "])\n",
    "\n",
    "# Create an empty DataFrame with this schema\n",
    "aqi_df = spark.createDataFrame([], aqi_schema)"
   ]
  },
  {
   "cell_type": "code",
   "execution_count": 0,
   "metadata": {
    "application/vnd.databricks.v1+cell": {
     "cellMetadata": {
      "byteLimit": 2048000,
      "rowLimit": 10000
     },
     "inputWidgets": {},
     "nuid": "9ece6e84-a2a3-4c4e-8418-1cd965211db6",
     "showTitle": false,
     "tableResultSettingsMap": {},
     "title": ""
    }
   },
   "outputs": [
    {
     "name": "stdout",
     "output_type": "stream",
     "text": [
      "Fetching AQI data for Delhi\n",
      "Fetching AQI data for Mumbai\n",
      "Fetching AQI data for Bangalore\n",
      "Fetching AQI data for Hyderabad\n",
      "Fetching AQI data for Chennai\n",
      "Fetching AQI data for Kolkata\n",
      "Fetching AQI data for Pune\n",
      "Fetching AQI data for Ahmedabad\n",
      "Fetching AQI data for Jaipur\n",
      "Fetching AQI data for Lucknow\n",
      "Fetching AQI data for Surat\n",
      "Fetching AQI data for Kanpur\n",
      "Fetching AQI data for Nagpur\n",
      "Fetching AQI data for Indore\n",
      "Fetching AQI data for Bhopal\n",
      "Fetching AQI data for Patna\n",
      "Fetching AQI data for Ludhiana\n",
      "Fetching AQI data for Coimbatore\n",
      "Fetching AQI data for Kochi\n",
      "Fetching AQI data for Visakhapatnam\n",
      "Fetching AQI data for Vijayawada\n",
      "Fetching AQI data for Chandigarh\n",
      "Fetching AQI data for Agra\n",
      "Fetching AQI data for Varanasi\n",
      "Fetching AQI data for Srinagar\n"
     ]
    }
   ],
   "source": [
    "def get_aqi_data(lat, lon):\n",
    "    url = f\"https://air-quality-api.open-meteo.com/v1/air-quality?latitude={lat}&longitude={lon}&hourly=pm10,pm2_5,us_aqi&start_date=2022-08-06&end_date=2025-03-31\"\n",
    "    response = requests.get(url)\n",
    "    if response.status_code == 200:\n",
    "        return response.json()\n",
    "    else:\n",
    "        print(response.status_code)\n",
    "        print(f\"Error fetching AQI data for {lat}, {lon}\")\n",
    "        return None\n",
    "\n",
    "for city in cities:\n",
    "    print(f\"Fetching AQI data for {city['city']}\")\n",
    "    data = get_aqi_data(city[\"latitude\"], city[\"longitude\"])\n",
    "    if data:\n",
    "        records = []\n",
    "        for i, timestamp in enumerate(data[\"hourly\"][\"time\"]):\n",
    "            records.append({\n",
    "                \"city\": city[\"city\"],\n",
    "                \"latitude\": float(city[\"latitude\"]),\n",
    "                \"longitude\": float(city[\"longitude\"]),\n",
    "                \"timestamp\": timestamp,\n",
    "                \"pm2_5\": float(data[\"hourly\"][\"pm2_5\"][i]),\n",
    "                \"pm_10\": float(data[\"hourly\"][\"pm10\"][i]),\n",
    "                \"aqi\": float(data[\"hourly\"][\"us_aqi\"][i]),\n",
    "            })\n",
    "\n",
    "        city_df = spark.createDataFrame(records, schema=aqi_schema)\n",
    "        aqi_df = aqi_df.union(city_df)\n",
    "    sleep(5)"
   ]
  },
  {
   "cell_type": "code",
   "execution_count": 0,
   "metadata": {
    "application/vnd.databricks.v1+cell": {
     "cellMetadata": {
      "byteLimit": 2048000,
      "rowLimit": 10000
     },
     "inputWidgets": {},
     "nuid": "b91ce2fa-3eb6-458c-acbd-d5c9bd524898",
     "showTitle": false,
     "tableResultSettingsMap": {},
     "title": ""
    }
   },
   "outputs": [
    {
     "name": "stdout",
     "output_type": "stream",
     "text": [
      "+-----+--------+---------+----------------+-----+-----+-----+\n",
      "| city|latitude|longitude|       timestamp|pm2_5|pm_10|  aqi|\n",
      "+-----+--------+---------+----------------+-----+-----+-----+\n",
      "|Delhi| 28.6139|   77.209|2022-08-06T00:00|112.2|161.1|137.0|\n",
      "|Delhi| 28.6139|   77.209|2022-08-06T01:00|101.0|145.3|144.0|\n",
      "|Delhi| 28.6139|   77.209|2022-08-06T02:00| 83.8|120.6|150.0|\n",
      "|Delhi| 28.6139|   77.209|2022-08-06T03:00| 63.1| 92.0|151.0|\n",
      "|Delhi| 28.6139|   77.209|2022-08-06T04:00| 54.4| 80.6|152.0|\n",
      "+-----+--------+---------+----------------+-----+-----+-----+\n",
      "only showing top 5 rows\n",
      "\n"
     ]
    }
   ],
   "source": [
    "aqi_df.show(5)"
   ]
  },
  {
   "cell_type": "code",
   "execution_count": 0,
   "metadata": {
    "application/vnd.databricks.v1+cell": {
     "cellMetadata": {
      "byteLimit": 2048000,
      "rowLimit": 10000
     },
     "inputWidgets": {},
     "nuid": "1c7f7bc6-276f-4e3d-b33f-4f69d47e8214",
     "showTitle": false,
     "tableResultSettingsMap": {},
     "title": ""
    }
   },
   "outputs": [
    {
     "name": "stdout",
     "output_type": "stream",
     "text": [
      "+-------+-------------+------------------+------------------+----------------+-----------------+-----------------+------------------+\n",
      "|summary|         city|          latitude|         longitude|       timestamp|            pm2_5|            pm_10|               aqi|\n",
      "+-------+-------------+------------------+------------------+----------------+-----------------+-----------------+------------------+\n",
      "|  count|       581400|            581400|            581400|          581400|           581400|           581400|            581400|\n",
      "|   mean|         NULL|22.107843999999595|  78.1651559999993|            NULL|41.98181355349154|66.35223374612998|107.67951668386652|\n",
      "| stddev|         NULL|6.2803205784175535|3.8366519350712758|            NULL|33.89331397030159|60.43830764001279| 51.73688208575391|\n",
      "|    min|         Agra|            9.9312|           72.5714|2022-08-06T00:00|              0.2|              0.2|              11.0|\n",
      "|    max|Visakhapatnam|           34.0837|           88.3639|2025-03-31T23:00|            581.1|           2197.9|            1709.0|\n",
      "+-------+-------------+------------------+------------------+----------------+-----------------+-----------------+------------------+\n",
      "\n"
     ]
    }
   ],
   "source": [
    "aqi_df.describe().show()"
   ]
  },
  {
   "cell_type": "code",
   "execution_count": 0,
   "metadata": {
    "application/vnd.databricks.v1+cell": {
     "cellMetadata": {
      "byteLimit": 2048000,
      "rowLimit": 10000
     },
     "inputWidgets": {},
     "nuid": "4025dc64-a60d-4c54-9d38-0f87e1abdc03",
     "showTitle": false,
     "tableResultSettingsMap": {},
     "title": ""
    }
   },
   "outputs": [],
   "source": [
    "full_data = weather_df.join(aqi_df, on=[\"city\", \"latitude\", \"longitude\", \"timestamp\"], how=\"inner\")"
   ]
  },
  {
   "cell_type": "code",
   "execution_count": 0,
   "metadata": {
    "application/vnd.databricks.v1+cell": {
     "cellMetadata": {
      "byteLimit": 2048000,
      "rowLimit": 10000
     },
     "inputWidgets": {},
     "nuid": "77f86de1-4a7b-4dae-8249-f11ac8402455",
     "showTitle": false,
     "tableResultSettingsMap": {},
     "title": ""
    }
   },
   "outputs": [
    {
     "name": "stdout",
     "output_type": "stream",
     "text": [
      "+----+--------+---------+----------------+--------------+--------------+-----------+-------------+--------------------+------------+-----+-----+-----+\n",
      "|city|latitude|longitude|       timestamp|temperature_2m|wind_speed_10m|cloud_cover|precipitation|relative_humidity_2m|dew_point_2m|pm2_5|pm_10|  aqi|\n",
      "+----+--------+---------+----------------+--------------+--------------+-----------+-------------+--------------------+------------+-----+-----+-----+\n",
      "|Agra| 27.1767|  78.0081|2022-08-06T04:00|          30.6|           4.1|       98.0|          0.1|                77.0|        26.2| 37.4| 54.1|146.0|\n",
      "|Agra| 27.1767|  78.0081|2022-08-06T07:00|          32.5|           2.9|      100.0|          0.0|                68.0|        25.8| 29.9| 43.4|147.0|\n",
      "|Agra| 27.1767|  78.0081|2022-08-06T08:00|          32.3|           3.3|      100.0|          0.2|                68.0|        25.7| 30.0| 43.5|147.0|\n",
      "|Agra| 27.1767|  78.0081|2022-08-06T09:00|          31.5|           3.7|      100.0|          1.1|                68.0|        24.9| 30.6| 44.4|146.0|\n",
      "|Agra| 27.1767|  78.0081|2022-08-06T11:00|          31.8|           1.3|      100.0|          0.0|                69.0|        25.3| 32.6| 47.3|146.0|\n",
      "+----+--------+---------+----------------+--------------+--------------+-----------+-------------+--------------------+------------+-----+-----+-----+\n",
      "only showing top 5 rows\n",
      "\n"
     ]
    }
   ],
   "source": [
    "full_data.show(5)"
   ]
  },
  {
   "cell_type": "code",
   "execution_count": 0,
   "metadata": {
    "application/vnd.databricks.v1+cell": {
     "cellMetadata": {
      "byteLimit": 2048000,
      "rowLimit": 10000
     },
     "inputWidgets": {},
     "nuid": "9406ce09-523e-483a-ba11-ad326bd4dcbe",
     "showTitle": false,
     "tableResultSettingsMap": {},
     "title": ""
    }
   },
   "outputs": [
    {
     "name": "stdout",
     "output_type": "stream",
     "text": [
      "+-------+-------------+------------------+------------------+----------------+------------------+-----------------+-----------------+------------------+--------------------+------------------+------------------+-----------------+------------------+\n",
      "|summary|         city|          latitude|         longitude|       timestamp|    temperature_2m|   wind_speed_10m|      cloud_cover|     precipitation|relative_humidity_2m|      dew_point_2m|             pm2_5|            pm_10|               aqi|\n",
      "+-------+-------------+------------------+------------------+----------------+------------------+-----------------+-----------------+------------------+--------------------+------------------+------------------+-----------------+------------------+\n",
      "|  count|       581400|            581400|            581400|          581400|            581400|           581400|           581400|            581400|              581400|            581400|            581400|           581400|            581400|\n",
      "|   mean|         NULL|22.107843999987384| 78.16515599993483|            NULL|24.748929652562644| 9.40508703130386|45.54083935328517|0.1432626418988653|   66.58499312005505|16.828733230134233|41.981813553491214|66.35223374612916|107.67951668386652|\n",
      "| stddev|         NULL| 6.280320578417579|3.8366519350712047|            NULL| 7.021389039823226|5.173920236044978|43.67491141979743|0.7839466273468789|   22.86278518973854| 7.280021302014255|33.893313970301584|60.43830764001267|51.736882085753884|\n",
      "|    min|         Agra|            9.9312|           72.5714|2022-08-06T00:00|             -15.3|              0.0|              0.0|               0.0|                 4.0|             -24.1|               0.2|              0.2|              11.0|\n",
      "|    max|Visakhapatnam|           34.0837|           88.3639|2025-03-31T23:00|              47.3|             53.1|            100.0|              51.7|               100.0|              29.8|             581.1|           2197.9|            1709.0|\n",
      "+-------+-------------+------------------+------------------+----------------+------------------+-----------------+-----------------+------------------+--------------------+------------------+------------------+-----------------+------------------+\n",
      "\n"
     ]
    }
   ],
   "source": [
    "full_data.describe().show()"
   ]
  },
  {
   "cell_type": "code",
   "execution_count": 0,
   "metadata": {
    "application/vnd.databricks.v1+cell": {
     "cellMetadata": {
      "byteLimit": 2048000,
      "rowLimit": 10000
     },
     "inputWidgets": {},
     "nuid": "7b4b2671-78e1-4a07-b735-0b97929b8e1f",
     "showTitle": false,
     "tableResultSettingsMap": {},
     "title": ""
    }
   },
   "outputs": [],
   "source": [
    "display(full_data)"
   ]
  },
  {
   "cell_type": "code",
   "execution_count": 0,
   "metadata": {
    "application/vnd.databricks.v1+cell": {
     "cellMetadata": {
      "byteLimit": 2048000,
      "rowLimit": 10000
     },
     "inputWidgets": {},
     "nuid": "95ca6fa0-22d7-42be-817d-6796ee016be9",
     "showTitle": false,
     "tableResultSettingsMap": {},
     "title": ""
    }
   },
   "outputs": [],
   "source": [
    "mongo_uri = \"############\"\n",
    "\n",
    "targetDb = \"weather-aqi-db\"\n",
    "targetCollection = \"weather-aqi-col\""
   ]
  },
  {
   "cell_type": "code",
   "execution_count": 0,
   "metadata": {
    "application/vnd.databricks.v1+cell": {
     "cellMetadata": {
      "byteLimit": 2048000,
      "rowLimit": 10000
     },
     "inputWidgets": {},
     "nuid": "24d721e3-bc49-4903-b45e-4b39ee71a236",
     "showTitle": false,
     "tableResultSettingsMap": {},
     "title": ""
    }
   },
   "outputs": [],
   "source": [
    "full_data.limit(600000).write.format(\"mongodb\") \\\n",
    "    .mode(\"append\") \\\n",
    "    .option(\"spark.mongodb.write.connection.uri\", mongo_uri) \\\n",
    "    .option(\"database\", targetDb) \\\n",
    "    .option(\"collection\", targetCollection) \\\n",
    "    .option(\"maxBatchSize\", 1000) \\\n",
    "    .save()"
   ]
  }
 ],
 "metadata": {
  "application/vnd.databricks.v1+notebook": {
   "computePreferences": null,
   "dashboards": [],
   "environmentMetadata": {
    "base_environment": "",
    "environment_version": "2"
   },
   "inputWidgetPreferences": null,
   "language": "python",
   "notebookMetadata": {
    "pythonIndentUnit": 4
   },
   "notebookName": "Big Data Processing",
   "widgets": {}
  },
  "kernelspec": {
   "display_name": "stats_project",
   "language": "python",
   "name": "python3"
  },
  "language_info": {
   "codemirror_mode": {
    "name": "ipython",
    "version": 3
   },
   "file_extension": ".py",
   "mimetype": "text/x-python",
   "name": "python",
   "nbconvert_exporter": "python",
   "pygments_lexer": "ipython3",
   "version": "3.12.7"
  }
 },
 "nbformat": 4,
 "nbformat_minor": 0
}
